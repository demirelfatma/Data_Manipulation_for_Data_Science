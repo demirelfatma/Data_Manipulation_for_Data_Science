{
 "cells": [
  {
   "cell_type": "markdown",
   "id": "39936235-85b0-49c8-8c69-42674ba84de2",
   "metadata": {},
   "source": [
    "# Pandas Giriş"
   ]
  },
  {
   "cell_type": "markdown",
   "id": "b6ff1c12-547e-4ce4-a344-9be35e090888",
   "metadata": {},
   "source": [
    "### Panel Data\n",
    "### Veri manipülasyonu ve veri analizi için yazılmış açık kaynak kodlu bir Python kütüphanesidir.\n",
    "### Ekonometrik ve finansal çalışmalariçin doğmuştur.\n",
    "### Temeli 2008 yılında atılmıştır.\n",
    "### R DataFrame yapısını Python dünyasına taşımış ve DataFrame'ler üzerinde hızlı ve etkili çalışabilme imkanı sağlamıştır.\n",
    "### Birçok farklı veri tipini okuma ve yazma imkanı sağlar."
   ]
  }
 ],
 "metadata": {
  "kernelspec": {
   "display_name": "Python 3 (ipykernel)",
   "language": "python",
   "name": "python3"
  },
  "language_info": {
   "codemirror_mode": {
    "name": "ipython",
    "version": 3
   },
   "file_extension": ".py",
   "mimetype": "text/x-python",
   "name": "python",
   "nbconvert_exporter": "python",
   "pygments_lexer": "ipython3",
   "version": "3.9.13"
  }
 },
 "nbformat": 4,
 "nbformat_minor": 5
}
