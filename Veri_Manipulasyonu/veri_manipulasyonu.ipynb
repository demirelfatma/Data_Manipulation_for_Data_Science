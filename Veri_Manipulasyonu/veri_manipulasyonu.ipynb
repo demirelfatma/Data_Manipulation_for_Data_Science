{
 "cells": [
  {
   "cell_type": "markdown",
   "id": "aef68fb3-8afd-4a1f-9a70-ff1030ba1d63",
   "metadata": {},
   "source": [
    "# Veri manipülasyonu, verileri daha anlaşılır hale getirmek için düzenleme sürecidir\n",
    "## Numpy Giris\n",
    "### Numerical Python\n",
    "### Bilimsel hesaplamalar için kullanılır.\n",
    "### Arrayler / çok boyutlu ve matrisler üzerinde yüksek performanslı çalışma imkanı sağlar\n",
    "### Temelleri 1995'te (matrix-sig, Guido Van Rossum) atılmış nihai olarak 2005(Travis Oliphant) yılında hayata geçmiştir.\n",
    "### Listelere benzerdir, farkı; verimli veri saklama ve vektörel operasyonlardır."
   ]
  }
 ],
 "metadata": {
  "kernelspec": {
   "display_name": "Python 3 (ipykernel)",
   "language": "python",
   "name": "python3"
  },
  "language_info": {
   "codemirror_mode": {
    "name": "ipython",
    "version": 3
   },
   "file_extension": ".py",
   "mimetype": "text/x-python",
   "name": "python",
   "nbconvert_exporter": "python",
   "pygments_lexer": "ipython3",
   "version": "3.9.13"
  }
 },
 "nbformat": 4,
 "nbformat_minor": 5
}
