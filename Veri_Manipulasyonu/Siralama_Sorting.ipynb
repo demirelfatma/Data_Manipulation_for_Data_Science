{
 "cells": [
  {
   "cell_type": "markdown",
   "id": "00d06028-d581-4261-9e07-1c9483404fe6",
   "metadata": {},
   "source": [
    "# Array Sıralama(Sorting)"
   ]
  },
  {
   "cell_type": "code",
   "execution_count": 1,
   "id": "9e930212-f11e-44e1-912f-8d0a57a63031",
   "metadata": {},
   "outputs": [],
   "source": [
    "import numpy as np"
   ]
  },
  {
   "cell_type": "code",
   "execution_count": 2,
   "id": "38f73dec-cef8-4dc7-a8e4-887acc912e46",
   "metadata": {},
   "outputs": [],
   "source": [
    "v = np.array([2,1,4,3,5])"
   ]
  },
  {
   "cell_type": "code",
   "execution_count": 3,
   "id": "0a4db19b-ce7d-4103-a897-be448d68ed59",
   "metadata": {},
   "outputs": [
    {
     "data": {
      "text/plain": [
       "array([2, 1, 4, 3, 5])"
      ]
     },
     "execution_count": 3,
     "metadata": {},
     "output_type": "execute_result"
    }
   ],
   "source": [
    "v"
   ]
  },
  {
   "cell_type": "code",
   "execution_count": 4,
   "id": "119e78a2-948e-4edc-aceb-f560c9821823",
   "metadata": {},
   "outputs": [
    {
     "data": {
      "text/plain": [
       "array([1, 2, 3, 4, 5])"
      ]
     },
     "execution_count": 4,
     "metadata": {},
     "output_type": "execute_result"
    }
   ],
   "source": [
    "np.sort(v)"
   ]
  },
  {
   "cell_type": "code",
   "execution_count": 5,
   "id": "66249fbd-8703-42ad-ae97-36ba0e7776c1",
   "metadata": {},
   "outputs": [
    {
     "data": {
      "text/plain": [
       "array([2, 1, 4, 3, 5])"
      ]
     },
     "execution_count": 5,
     "metadata": {},
     "output_type": "execute_result"
    }
   ],
   "source": [
    "v"
   ]
  },
  {
   "cell_type": "code",
   "execution_count": 6,
   "id": "d2999b3f-bf70-410b-a50e-4ae162ab1dc0",
   "metadata": {},
   "outputs": [],
   "source": [
    "v.sort()"
   ]
  },
  {
   "cell_type": "code",
   "execution_count": 7,
   "id": "e60f8df7-116f-4597-bbcc-fb3113f0112a",
   "metadata": {},
   "outputs": [
    {
     "data": {
      "text/plain": [
       "array([1, 2, 3, 4, 5])"
      ]
     },
     "execution_count": 7,
     "metadata": {},
     "output_type": "execute_result"
    }
   ],
   "source": [
    "v"
   ]
  },
  {
   "cell_type": "markdown",
   "id": "09821db5-b6fc-4cfe-b9cc-dd81067cd837",
   "metadata": {},
   "source": [
    "### iki boyutlu array sirlama"
   ]
  },
  {
   "cell_type": "code",
   "execution_count": 8,
   "id": "3511bb8e-fa25-45cb-8969-8bf62b3da0cd",
   "metadata": {},
   "outputs": [],
   "source": [
    "m = np.random.normal(20,5,(3,3))"
   ]
  },
  {
   "cell_type": "code",
   "execution_count": 9,
   "id": "767b8b2a-1e57-499b-bd4d-2cbcb1870d66",
   "metadata": {},
   "outputs": [
    {
     "data": {
      "text/plain": [
       "array([[24.41004782, 24.33640364, 26.93830176],\n",
       "       [24.20989892, 11.39465625, 11.73535644],\n",
       "       [13.32292421, 20.67168407, 19.36175045]])"
      ]
     },
     "execution_count": 9,
     "metadata": {},
     "output_type": "execute_result"
    }
   ],
   "source": [
    "m"
   ]
  },
  {
   "cell_type": "code",
   "execution_count": 12,
   "id": "9889a35e-f133-4f13-a7a9-a4c90d5617fa",
   "metadata": {},
   "outputs": [
    {
     "data": {
      "text/plain": [
       "array([[24.33640364, 24.41004782, 26.93830176],\n",
       "       [11.39465625, 11.73535644, 24.20989892],\n",
       "       [13.32292421, 19.36175045, 20.67168407]])"
      ]
     },
     "execution_count": 12,
     "metadata": {},
     "output_type": "execute_result"
    }
   ],
   "source": [
    "np.sort(m,axis=1) #satıra göre sıralama"
   ]
  },
  {
   "cell_type": "code",
   "execution_count": 13,
   "id": "5f328155-fff6-4064-8d1d-38505a324e71",
   "metadata": {},
   "outputs": [
    {
     "data": {
      "text/plain": [
       "array([[13.32292421, 11.39465625, 11.73535644],\n",
       "       [24.20989892, 20.67168407, 19.36175045],\n",
       "       [24.41004782, 24.33640364, 26.93830176]])"
      ]
     },
     "execution_count": 13,
     "metadata": {},
     "output_type": "execute_result"
    }
   ],
   "source": [
    "np.sort(m,axis=0) #sütuna göre sıralama"
   ]
  },
  {
   "cell_type": "code",
   "execution_count": 14,
   "id": "fbac5943-d3fa-4a31-9b1f-c7420c3a76ec",
   "metadata": {},
   "outputs": [
    {
     "data": {
      "text/plain": [
       "array([ 5, 10, 15])"
      ]
     },
     "execution_count": 14,
     "metadata": {},
     "output_type": "execute_result"
    }
   ],
   "source": [
    "5*np.array([1,2,3])"
   ]
  }
 ],
 "metadata": {
  "kernelspec": {
   "display_name": "Python 3 (ipykernel)",
   "language": "python",
   "name": "python3"
  },
  "language_info": {
   "codemirror_mode": {
    "name": "ipython",
    "version": 3
   },
   "file_extension": ".py",
   "mimetype": "text/x-python",
   "name": "python",
   "nbconvert_exporter": "python",
   "pygments_lexer": "ipython3",
   "version": "3.9.13"
  }
 },
 "nbformat": 4,
 "nbformat_minor": 5
}
