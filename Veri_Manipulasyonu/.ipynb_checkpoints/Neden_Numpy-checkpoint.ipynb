{
 "cells": [
  {
   "cell_type": "markdown",
   "id": "68d0a880-7a34-487b-bf26-bb2e9a183a03",
   "metadata": {},
   "source": [
    "## Niçin NUMPY?"
   ]
  },
  {
   "cell_type": "code",
   "execution_count": 7,
   "id": "e49f506d-776e-4b08-aff0-ec1558aa8534",
   "metadata": {},
   "outputs": [],
   "source": [
    "a = [1,2,3,4]\n",
    "b = [2,3,4,5]"
   ]
  },
  {
   "cell_type": "code",
   "execution_count": 8,
   "id": "bdf8e2f8-48bc-42ff-92a7-3d0deb31947b",
   "metadata": {},
   "outputs": [
    {
     "data": {
      "text/plain": [
       "[2, 6, 12, 20]"
      ]
     },
     "execution_count": 8,
     "metadata": {},
     "output_type": "execute_result"
    }
   ],
   "source": [
    "ab =[]\n",
    "\n",
    "for i in range(0, len(a)):\n",
    "    ab.append(a[i]*b[i])\n",
    "    \n",
    "ab"
   ]
  },
  {
   "cell_type": "code",
   "execution_count": 9,
   "id": "5f6fecd7-1f3b-4dab-9af7-29882220aa01",
   "metadata": {},
   "outputs": [],
   "source": [
    "import numpy as np"
   ]
  },
  {
   "cell_type": "code",
   "execution_count": 10,
   "id": "42f2acdb-0442-4de7-962f-aa6d8a73c258",
   "metadata": {},
   "outputs": [],
   "source": [
    "a = np.array([1,2,3,4])\n",
    "b = np.array([2,3,4,5])"
   ]
  },
  {
   "cell_type": "code",
   "execution_count": 11,
   "id": "8ed53025-ffe2-4e75-933c-4e895b936db2",
   "metadata": {},
   "outputs": [
    {
     "data": {
      "text/plain": [
       "array([ 2,  6, 12, 20])"
      ]
     },
     "execution_count": 11,
     "metadata": {},
     "output_type": "execute_result"
    }
   ],
   "source": [
    "a*b"
   ]
  }
 ],
 "metadata": {
  "kernelspec": {
   "display_name": "Python 3 (ipykernel)",
   "language": "python",
   "name": "python3"
  },
  "language_info": {
   "codemirror_mode": {
    "name": "ipython",
    "version": 3
   },
   "file_extension": ".py",
   "mimetype": "text/x-python",
   "name": "python",
   "nbconvert_exporter": "python",
   "pygments_lexer": "ipython3",
   "version": "3.9.13"
  }
 },
 "nbformat": 4,
 "nbformat_minor": 5
}
